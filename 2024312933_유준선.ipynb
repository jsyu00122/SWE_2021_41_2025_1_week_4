{
  "nbformat": 4,
  "nbformat_minor": 0,
  "metadata": {
    "colab": {
      "provenance": [],
      "gpuType": "T4"
    },
    "kernelspec": {
      "name": "python3",
      "display_name": "Python 3"
    },
    "language_info": {
      "name": "python"
    },
    "accelerator": "GPU"
  },
  "cells": [
    {
      "cell_type": "code",
      "execution_count": 1,
      "metadata": {
        "colab": {
          "base_uri": "https://localhost:8080/"
        },
        "id": "aTg93tBGsTTp",
        "outputId": "ce709f11-fb70-4721-de8b-158ceee87bbe"
      },
      "outputs": [
        {
          "output_type": "stream",
          "name": "stdout",
          "text": [
            "Hello World\n"
          ]
        }
      ],
      "source": [
        "def isHappy(n):\n",
        "    seen = set()\n",
        "\n",
        "    while n != 1:\n",
        "        if n in seen:\n",
        "            return False\n",
        "        seen.add(n)\n",
        "\n",
        "        lst = []\n",
        "        temp = n\n",
        "        while temp > 0:\n",
        "            remainder = temp % 10\n",
        "            lst.append(remainder)\n",
        "            temp //= 10\n",
        "\n",
        "        new_n = 0\n",
        "        for i in range(len(lst)):\n",
        "            new_n += lst[i] ** 2\n",
        "\n",
        "        n = new_n\n",
        "\n",
        "    return True"
      ]
    }
  ]
}